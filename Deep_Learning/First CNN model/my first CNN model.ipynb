{
 "cells": [
  {
   "cell_type": "code",
   "execution_count": 2,
   "metadata": {},
   "outputs": [],
   "source": [
    "import numpy as np\n",
    "import tensorflow as tf\n",
    "import tensorflow_datasets as tfds"
   ]
  },
  {
   "cell_type": "code",
   "execution_count": 49,
   "metadata": {},
   "outputs": [],
   "source": [
    "mnist_dataset, mnist_info = tfds.load(name='mnist', with_info=True, as_supervised=True)\n",
    "mnist_train_dataset, mnist_test_dataset = mnist_dataset['train'], mnist_dataset['test']\n",
    "\n",
    "mnist_validation_samples = 0.1 * mnist_info.splits['train'].num_examples\n",
    "mnist_validation_samples = tf.cast(mnist_validation_samples, tf.int64)\n",
    "\n",
    "mnist_test_samples = 0.1 * mnist_info.splits['test'].num_examples\n",
    "mnist_test_samples = tf.cast(mnist_validation_samples, tf.int64)\n",
    "\n",
    "def scale(image, label):\n",
    "    image= tf.cast(image, tf.float64)\n",
    "    image/=255.\n",
    "    \n",
    "    return image, label\n",
    "\n",
    "scaled_train_validation_data = mnist_train_dataset.map(scale)\n",
    "\n",
    "scaled_test_data = mnist_test_dataset.map(scale)"
   ]
  },
  {
   "cell_type": "code",
   "execution_count": 50,
   "metadata": {},
   "outputs": [],
   "source": [
    "BUFFER_SIZE = 10000\n",
    "\n",
    "shuffled_train_validation_data = scaled_train_validation_data.shuffle(BUFFER_SIZE)\n",
    "shuffed_test_data = scaled_test_data.shuffle(BUFFER_SIZE)\n",
    "\n",
    "validation_data = shuffled_train_validation_data.take(mnist_validation_samples)\n",
    "train_data = shuffled_train_validation_data.skip(mnist_validation_samples)\n",
    "\n",
    "BATCH_SIZE= 100\n",
    "\n",
    "train_data = train_data.batch(BATCH_SIZE)\n",
    "\n",
    "validation_data  = validation_data.batch(mnist_validation_samples)\n",
    "\n",
    "test_data = scaled_test_data.batch(mnist_test_samples)\n",
    "\n",
    "\n",
    "validation_input, validation_target= next(iter(validation_data))"
   ]
  },
  {
   "cell_type": "code",
   "execution_count": 51,
   "metadata": {},
   "outputs": [],
   "source": [
    "input_size = 784\n",
    "output_size = 10\n",
    "hidden_layers = 200\n",
    "\n",
    "\n",
    "model = tf.keras.Sequential([\n",
    "    tf.keras.layers.Flatten(input_shape=(28,28,1)),\n",
    "    \n",
    "    tf.keras.layers.Dense(hidden_layers, activation='relu'),\n",
    "    tf.keras.layers.Dense(hidden_layers, activation='tanh'),\n",
    "    \n",
    "    tf.keras.layers.Dense(output_size, activation='softmax')\n",
    "])\n",
    "\n",
    "model.compile(optimizer='adam', loss='sparse_categorical_crossentropy', metrics=['accuracy'])"
   ]
  },
  {
   "cell_type": "code",
   "execution_count": 52,
   "metadata": {},
   "outputs": [
    {
     "name": "stdout",
     "output_type": "stream",
     "text": [
      "Epoch 1/5\n",
      "540/540 - 6s - loss: 0.2581 - accuracy: 0.9235 - val_loss: 0.1310 - val_accuracy: 0.9647\n",
      "Epoch 2/5\n",
      "540/540 - 3s - loss: 0.0990 - accuracy: 0.9692 - val_loss: 0.0769 - val_accuracy: 0.9778\n",
      "Epoch 3/5\n",
      "540/540 - 3s - loss: 0.0652 - accuracy: 0.9800 - val_loss: 0.0656 - val_accuracy: 0.9822\n",
      "Epoch 4/5\n",
      "540/540 - 3s - loss: 0.0490 - accuracy: 0.9843 - val_loss: 0.0541 - val_accuracy: 0.9838\n",
      "Epoch 5/5\n",
      "540/540 - 3s - loss: 0.0376 - accuracy: 0.9878 - val_loss: 0.0376 - val_accuracy: 0.9887\n"
     ]
    },
    {
     "data": {
      "text/plain": [
       "<tensorflow.python.keras.callbacks.History at 0x21c75631d90>"
      ]
     },
     "execution_count": 52,
     "metadata": {},
     "output_type": "execute_result"
    }
   ],
   "source": [
    "NUM_EPOCHS = 5\n",
    "model.fit(train_data, epochs=NUM_EPOCHS, validation_data=(validation_input, validation_target), verbose=2)"
   ]
  },
  {
   "cell_type": "code",
   "execution_count": 58,
   "metadata": {},
   "outputs": [
    {
     "name": "stdout",
     "output_type": "stream",
     "text": [
      "2/2 [==============================] - 1s 234ms/step - loss: 0.0768 - accuracy: 0.9770\n"
     ]
    }
   ],
   "source": [
    "test_loss, test_accuracy = model.evaluate(test_data)"
   ]
  },
  {
   "cell_type": "code",
   "execution_count": 69,
   "metadata": {},
   "outputs": [
    {
     "name": "stdout",
     "output_type": "stream",
     "text": [
      "test loss is 0.08 and test accuracy is 97.70\n"
     ]
    }
   ],
   "source": [
    "print(\"test loss is {0:.2f} and test accuracy is {1:.2f}\".format(test_loss, test_accuracy*100.))"
   ]
  },
  {
   "cell_type": "code",
   "execution_count": null,
   "metadata": {},
   "outputs": [],
   "source": []
  }
 ],
 "metadata": {
  "kernelspec": {
   "display_name": "Python 3",
   "language": "python",
   "name": "python3"
  },
  "language_info": {
   "codemirror_mode": {
    "name": "ipython",
    "version": 3
   },
   "file_extension": ".py",
   "mimetype": "text/x-python",
   "name": "python",
   "nbconvert_exporter": "python",
   "pygments_lexer": "ipython3",
   "version": "3.8.8"
  }
 },
 "nbformat": 4,
 "nbformat_minor": 2
}
