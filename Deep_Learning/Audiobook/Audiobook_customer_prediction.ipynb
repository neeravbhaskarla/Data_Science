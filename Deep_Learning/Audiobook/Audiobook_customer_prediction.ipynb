{
 "cells": [
  {
   "cell_type": "code",
   "execution_count": 1,
   "id": "2d8d14a4",
   "metadata": {},
   "outputs": [],
   "source": [
    "import numpy as np\n",
    "from sklearn import preprocessing\n",
    "\n",
    "raw_csv_data = np.loadtxt('Audiobooks_data.csv', delimiter=',')"
   ]
  },
  {
   "cell_type": "code",
   "execution_count": 2,
   "id": "784faee5",
   "metadata": {},
   "outputs": [],
   "source": [
    "unscaled_input = raw_csv_data[:,1:-1]"
   ]
  },
  {
   "cell_type": "code",
   "execution_count": 3,
   "id": "196bb886",
   "metadata": {},
   "outputs": [],
   "source": [
    "targets_all = raw_csv_data[:,-1]"
   ]
  },
  {
   "cell_type": "code",
   "execution_count": 4,
   "id": "e771f598",
   "metadata": {},
   "outputs": [
    {
     "data": {
      "text/plain": [
       "14084"
      ]
     },
     "execution_count": 4,
     "metadata": {},
     "output_type": "execute_result"
    }
   ],
   "source": [
    "len(targets_all)"
   ]
  },
  {
   "cell_type": "code",
   "execution_count": 5,
   "id": "bfdbaac5",
   "metadata": {},
   "outputs": [],
   "source": [
    "num_one_targets = int(np.sum(targets_all))"
   ]
  },
  {
   "cell_type": "code",
   "execution_count": 6,
   "id": "f4a3aa7f",
   "metadata": {},
   "outputs": [],
   "source": [
    "num_zero_targets = 0\n",
    "\n",
    "indexs_to_remove = []\n",
    "\n",
    "for i in range(targets_all.shape[0]):\n",
    "    if targets_all[i]==0:\n",
    "        num_zero_targets+=1\n",
    "        if num_zero_targets>num_one_targets:\n",
    "            indexs_to_remove.append(i)"
   ]
  },
  {
   "cell_type": "code",
   "execution_count": 7,
   "id": "58bf26df",
   "metadata": {},
   "outputs": [],
   "source": [
    "unscaled_inputs_equal_prior = np.delete(unscaled_input, indexs_to_remove, axis=0)\n",
    "targets_equal_prior = np.delete(targets_all, indexs_to_remove, axis=0)"
   ]
  },
  {
   "cell_type": "code",
   "execution_count": 8,
   "id": "3baae359",
   "metadata": {},
   "outputs": [],
   "source": [
    "scaled_inputs = preprocessing.scale(unscaled_inputs_equal_prior)"
   ]
  },
  {
   "cell_type": "code",
   "execution_count": 9,
   "id": "f7bb856c",
   "metadata": {},
   "outputs": [],
   "source": [
    "suffled_indices = np.arange(scaled_inputs.shape[0])\n",
    "np.random.shuffle(suffled_indices)\n",
    "\n",
    "shuffled_inputs = scaled_inputs[suffled_indices]\n",
    "shuffled_targets = targets_equal_prior[suffled_indices]"
   ]
  },
  {
   "cell_type": "code",
   "execution_count": 10,
   "id": "9479d137",
   "metadata": {},
   "outputs": [],
   "source": [
    "sample_count = shuffled_inputs.shape[0]\n",
    "\n",
    "train_sample_count = int(0.8*sample_count)\n",
    "validation_sample_count = int(0.1*sample_count)\n",
    "\n",
    "test_sample_count = int(sample_count-train_sample_count-validation_sample_count)\n",
    "\n",
    "train_inputs = shuffled_inputs[:train_sample_count]\n",
    "train_targets = shuffled_targets[:train_sample_count]\n",
    "\n",
    "validation_inputs = shuffled_inputs[train_sample_count:train_sample_count+validation_sample_count]\n",
    "validation_targets = shuffled_targets[train_sample_count:train_sample_count+validation_sample_count]\n",
    "\n",
    "test_inputs = shuffled_inputs[train_sample_count+validation_sample_count:]\n",
    "test_targets = shuffled_targets[train_sample_count+validation_sample_count:]"
   ]
  },
  {
   "cell_type": "code",
   "execution_count": 11,
   "id": "9b3262b8",
   "metadata": {},
   "outputs": [
    {
     "name": "stdout",
     "output_type": "stream",
     "text": [
      "Training Dataset \t no. of ones: 1774, no. of zeros: 1805, prior: 49.57%\n",
      "Validation Dataset \t no. of ones: 225, no. of zeros: 222, prior: 50.34%\n",
      "Test Dataset \t\t no. of ones: 238, no. of zeros: 210, prior: 53.12%\n"
     ]
    }
   ],
   "source": [
    "print(\"Training Dataset \\t no. of ones: {0:.0f}, no. of zeros: {1:.0f}, prior: {2:.2f}%\".format(np.sum(train_targets),train_sample_count-np.sum(train_targets),(np.sum(train_targets)/train_sample_count)*100))\n",
    "print(\"Validation Dataset \\t no. of ones: {0:.0f}, no. of zeros: {1:.0f}, prior: {2:.2f}%\".format(np.sum(validation_targets),validation_sample_count-np.sum(validation_targets),(np.sum(validation_targets)/validation_sample_count)*100))\n",
    "print(\"Test Dataset \\t\\t no. of ones: {0:.0f}, no. of zeros: {1:.0f}, prior: {2:.2f}%\".format(np.sum(test_targets),test_sample_count-np.sum(test_targets),(np.sum(test_targets)/test_sample_count)*100))"
   ]
  },
  {
   "cell_type": "code",
   "execution_count": 12,
   "id": "bca5aaf0",
   "metadata": {},
   "outputs": [],
   "source": [
    "np.savez('Audiobook_data_train', inputs=train_inputs, targets=train_targets)\n",
    "np.savez('Audiobook_data_validation', inputs=validation_inputs, targets=validation_targets)\n",
    "np.savez('Audiobook_data_test', inputs=test_inputs, targets=test_targets)"
   ]
  },
  {
   "cell_type": "code",
   "execution_count": 13,
   "id": "3dc1f195",
   "metadata": {},
   "outputs": [],
   "source": [
    "import tensorflow as tf"
   ]
  },
  {
   "cell_type": "code",
   "execution_count": 14,
   "id": "d022aabf",
   "metadata": {},
   "outputs": [],
   "source": [
    "npz = np.load('Audiobook_data_train.npz')\n",
    "train_inputs, train_targets = npz['inputs'].astype(np.float), npz['targets'].astype(np.int)\n",
    "\n",
    "npz = np.load('Audiobook_data_validation.npz')\n",
    "validation_inputs, validation_targets = npz['inputs'].astype(np.float), npz['targets'].astype(np.int)\n",
    "\n",
    "npz = np.load('Audiobook_data_test.npz')\n",
    "test_inputs, test_targets = npz['inputs'].astype(np.float), npz['targets'].astype(np.int)"
   ]
  },
  {
   "cell_type": "code",
   "execution_count": 21,
   "id": "55015d96",
   "metadata": {},
   "outputs": [
    {
     "name": "stdout",
     "output_type": "stream",
     "text": [
      "Epoch 1/50\n",
      "36/36 - 1s - loss: 0.5658 - accuracy: 0.6865 - val_loss: 0.4784 - val_accuracy: 0.7539\n",
      "Epoch 2/50\n",
      "36/36 - 0s - loss: 0.4325 - accuracy: 0.7728 - val_loss: 0.4212 - val_accuracy: 0.7785\n",
      "Epoch 3/50\n",
      "36/36 - 0s - loss: 0.3874 - accuracy: 0.7941 - val_loss: 0.3890 - val_accuracy: 0.8076\n",
      "Epoch 4/50\n",
      "36/36 - 0s - loss: 0.3659 - accuracy: 0.7991 - val_loss: 0.3777 - val_accuracy: 0.7808\n",
      "Epoch 5/50\n",
      "36/36 - 0s - loss: 0.3553 - accuracy: 0.8075 - val_loss: 0.3700 - val_accuracy: 0.7763\n",
      "Epoch 6/50\n",
      "36/36 - 0s - loss: 0.3468 - accuracy: 0.8100 - val_loss: 0.3604 - val_accuracy: 0.8188\n",
      "Epoch 7/50\n",
      "36/36 - 0s - loss: 0.3422 - accuracy: 0.8111 - val_loss: 0.3700 - val_accuracy: 0.7852\n",
      "Epoch 8/50\n",
      "36/36 - 0s - loss: 0.3367 - accuracy: 0.8117 - val_loss: 0.3661 - val_accuracy: 0.8121\n"
     ]
    },
    {
     "data": {
      "text/plain": [
       "<tensorflow.python.keras.callbacks.History at 0x1c8ecc2a9a0>"
      ]
     },
     "execution_count": 21,
     "metadata": {},
     "output_type": "execute_result"
    }
   ],
   "source": [
    "inputs = 10 \n",
    "output_size = 2\n",
    "hidden_layers_size = 50\n",
    "\n",
    "model = tf.keras.Sequential([\n",
    "            tf.keras.layers.Dense(hidden_layers_size, activation='relu'),\n",
    "            tf.keras.layers.Dense(hidden_layers_size, activation='relu'),\n",
    "            tf.keras.layers.Dense(hidden_layers_size, activation='relu'),\n",
    "    \n",
    "            tf.keras.layers.Dense(output_size, activation='softmax'),\n",
    "])\n",
    "\n",
    "model.compile(optimizer='adam', loss='sparse_categorical_crossentropy', metrics=['accuracy'])\n",
    "\n",
    "batch_size = 100\n",
    "\n",
    "\n",
    "EPOCHS = 50\n",
    "\n",
    "early_stopping = tf.keras.callbacks.EarlyStopping(patience = 2)\n",
    "\n",
    "model.fit(train_inputs,\n",
    "         train_targets,\n",
    "         batch_size = batch_size,\n",
    "         epochs = EPOCHS,\n",
    "         callbacks=[early_stopping],\n",
    "         validation_data = (validation_inputs, validation_targets),\n",
    "         verbose=2)"
   ]
  },
  {
   "cell_type": "code",
   "execution_count": 22,
   "id": "0c7dcb1b",
   "metadata": {},
   "outputs": [
    {
     "name": "stdout",
     "output_type": "stream",
     "text": [
      "14/14 [==============================] - 0s 2ms/step - loss: 0.3396 - accuracy: 0.8281\n"
     ]
    }
   ],
   "source": [
    "test_loss, test_accuracy = model.evaluate(test_inputs, test_targets)"
   ]
  },
  {
   "cell_type": "code",
   "execution_count": null,
   "id": "a5f324ea",
   "metadata": {},
   "outputs": [],
   "source": []
  }
 ],
 "metadata": {
  "kernelspec": {
   "display_name": "Python 3",
   "language": "python",
   "name": "python3"
  },
  "language_info": {
   "codemirror_mode": {
    "name": "ipython",
    "version": 3
   },
   "file_extension": ".py",
   "mimetype": "text/x-python",
   "name": "python",
   "nbconvert_exporter": "python",
   "pygments_lexer": "ipython3",
   "version": "3.8.8"
  }
 },
 "nbformat": 4,
 "nbformat_minor": 5
}
